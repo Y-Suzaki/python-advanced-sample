{
 "cells": [
  {
   "cell_type": "code",
   "execution_count": 2,
   "id": "0253af29",
   "metadata": {},
   "outputs": [
    {
     "name": "stdout",
     "output_type": "stream",
     "text": [
      "[[-1  5]\n",
      " [ 4  9]]\n"
     ]
    }
   ],
   "source": [
    "import numpy as np\n",
    "\n",
    "A = np.array([[1, 2],\n",
    "              [3, 4]])\n",
    "B = np.array([[-2, 3],\n",
    "              [1, 5]])\n",
    "\n",
    "print(A + B)"
   ]
  },
  {
   "cell_type": "code",
   "execution_count": 3,
   "id": "0eac8a8e",
   "metadata": {},
   "outputs": [
    {
     "name": "stdout",
     "output_type": "stream",
     "text": [
      "[[ 0 13]\n",
      " [-2 29]]\n"
     ]
    }
   ],
   "source": [
    "print(np.dot(A, B))\n"
   ]
  },
  {
   "cell_type": "code",
   "execution_count": 5,
   "id": "97e4b1fd",
   "metadata": {},
   "outputs": [
    {
     "name": "stdout",
     "output_type": "stream",
     "text": [
      "[[-2.   1. ]\n",
      " [ 1.5 -0.5]]\n"
     ]
    }
   ],
   "source": [
    "print(np.linalg.inv(A))"
   ]
  },
  {
   "cell_type": "code",
   "execution_count": null,
   "id": "1972626a",
   "metadata": {},
   "outputs": [],
   "source": []
  }
 ],
 "metadata": {
  "kernelspec": {
   "display_name": "Python 3 (ipykernel)",
   "language": "python",
   "name": "python3"
  },
  "language_info": {
   "codemirror_mode": {
    "name": "ipython",
    "version": 3
   },
   "file_extension": ".py",
   "mimetype": "text/x-python",
   "name": "python",
   "nbconvert_exporter": "python",
   "pygments_lexer": "ipython3",
   "version": "3.9.9"
  }
 },
 "nbformat": 4,
 "nbformat_minor": 5
}
